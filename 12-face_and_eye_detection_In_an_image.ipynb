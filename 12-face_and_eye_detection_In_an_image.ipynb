{
 "cells": [
  {
   "cell_type": "code",
   "execution_count": 25,
   "metadata": {},
   "outputs": [],
   "source": [
    "import cv2 as cv"
   ]
  },
  {
   "cell_type": "code",
   "execution_count": 26,
   "metadata": {},
   "outputs": [],
   "source": [
    "face_cascade = cv.CascadeClassifier('./haarcascade_frontalface_default.xml')\n",
    "eye_cascade = cv.CascadeClassifier('./haarcascade_eye_tree_eyeglasses.xml')"
   ]
  },
  {
   "cell_type": "code",
   "execution_count": 27,
   "metadata": {},
   "outputs": [],
   "source": [
    "img = cv.imread('./face.jpeg')\n",
    "#img = cv.resize(img, (800,600))\n",
    "gray_image = cv.cvtColor(img, cv.COLOR_BGR2GRAY)\n",
    "face_detect = face_cascade.detectMultiScale(gray_image, 1.1, 4)\n",
    "eye_detect = eye_cascade.detectMultiScale(gray_image)"
   ]
  },
  {
   "cell_type": "code",
   "execution_count": 28,
   "metadata": {},
   "outputs": [
    {
     "data": {
      "text/plain": [
       "-1"
      ]
     },
     "execution_count": 28,
     "metadata": {},
     "output_type": "execute_result"
    }
   ],
   "source": [
    "for (x, y, w, h) in face_detect:\n",
    "    cv.rectangle(img, (x, y), (x+w, y+h), (255, 0, 0), thickness = 3)\n",
    "    \n",
    "    for (ex, ey, ew, eh) in eye_detect:\n",
    "        cv.rectangle(img, (ex, ey), (ex+ew, ey+eh), (255, 0, 0), thickness = 3)\n",
    "\n",
    "        \n",
    "            \n",
    "cv.imshow(\"Image\", img)\n",
    "cv.waitKey(0)"
   ]
  },
  {
   "cell_type": "code",
   "execution_count": null,
   "metadata": {},
   "outputs": [],
   "source": []
  },
  {
   "cell_type": "code",
   "execution_count": null,
   "metadata": {},
   "outputs": [],
   "source": []
  },
  {
   "cell_type": "code",
   "execution_count": null,
   "metadata": {},
   "outputs": [],
   "source": []
  }
 ],
 "metadata": {
  "kernelspec": {
   "display_name": "Python 3",
   "language": "python",
   "name": "python3"
  },
  "language_info": {
   "codemirror_mode": {
    "name": "ipython",
    "version": 3
   },
   "file_extension": ".py",
   "mimetype": "text/x-python",
   "name": "python",
   "nbconvert_exporter": "python",
   "pygments_lexer": "ipython3",
   "version": "3.6.9"
  }
 },
 "nbformat": 4,
 "nbformat_minor": 2
}

{
 "cells": [
  {
   "cell_type": "code",
   "execution_count": 11,
   "metadata": {},
   "outputs": [],
   "source": [
    "import cv2 as cv"
   ]
  },
  {
   "cell_type": "code",
   "execution_count": 12,
   "metadata": {},
   "outputs": [],
   "source": [
    "# Read Image\n",
    "img = cv.imread('./cat.png')"
   ]
  },
  {
   "cell_type": "code",
   "execution_count": 13,
   "metadata": {},
   "outputs": [
    {
     "name": "stdout",
     "output_type": "stream",
     "text": [
      "[[[ 30  30  30]\n",
      "  [ 30  30  30]\n",
      "  [ 30  30  30]\n",
      "  ...\n",
      "  [ 30  30  30]\n",
      "  [ 30  30  30]\n",
      "  [ 31  31  31]]\n",
      "\n",
      " [[ 30  30  30]\n",
      "  [138 130 130]\n",
      "  [139 131 133]\n",
      "  ...\n",
      "  [144 135 138]\n",
      "  [ 30  30  30]\n",
      "  [ 30  30  30]]\n",
      "\n",
      " [[ 30  30  30]\n",
      "  [142 132 132]\n",
      "  [140 131 133]\n",
      "  ...\n",
      "  [143 133 139]\n",
      "  [ 30  30  30]\n",
      "  [ 30  30  30]]\n",
      "\n",
      " ...\n",
      "\n",
      " [[ 26  26  26]\n",
      "  [153 148 145]\n",
      "  [154 146 148]\n",
      "  ...\n",
      "  [109 105 104]\n",
      "  [ 26  26  26]\n",
      "  [ 27  27  27]]\n",
      "\n",
      " [[ 27  27  27]\n",
      "  [ 26  26  26]\n",
      "  [ 26  26  26]\n",
      "  ...\n",
      "  [ 26  26  26]\n",
      "  [ 27  27  27]\n",
      "  [ 27  27  27]]\n",
      "\n",
      " [[ 27  27  27]\n",
      "  [ 27  27  27]\n",
      "  [ 26  26  26]\n",
      "  ...\n",
      "  [ 27  27  27]\n",
      "  [ 27  27  27]\n",
      "  [ 27  27  27]]]\n"
     ]
    }
   ],
   "source": [
    "print(img)"
   ]
  },
  {
   "cell_type": "code",
   "execution_count": 14,
   "metadata": {},
   "outputs": [],
   "source": [
    "cv.imshow(\"Image\", img)\n",
    "cv.waitKey(delay=0)\n",
    "cv.destroyAllWindows()"
   ]
  },
  {
   "cell_type": "code",
   "execution_count": 15,
   "metadata": {},
   "outputs": [],
   "source": [
    "# Read Image as Grey Scale\n",
    "grey_img = cv.imread(\"./cat.png\", 0)\n",
    "\n",
    "cv.imshow(\"Image\", grey_img)\n",
    "cv.waitKey(delay = 0)\n",
    "cv.destroyAllWindows()"
   ]
  },
  {
   "cell_type": "code",
   "execution_count": null,
   "metadata": {},
   "outputs": [],
   "source": []
  },
  {
   "cell_type": "code",
   "execution_count": null,
   "metadata": {},
   "outputs": [],
   "source": []
  },
  {
   "cell_type": "code",
   "execution_count": null,
   "metadata": {},
   "outputs": [],
   "source": []
  }
 ],
 "metadata": {
  "kernelspec": {
   "display_name": "Python 3",
   "language": "python",
   "name": "python3"
  },
  "language_info": {
   "codemirror_mode": {
    "name": "ipython",
    "version": 3
   },
   "file_extension": ".py",
   "mimetype": "text/x-python",
   "name": "python",
   "nbconvert_exporter": "python",
   "pygments_lexer": "ipython3",
   "version": "3.6.9"
  }
 },
 "nbformat": 4,
 "nbformat_minor": 2
}
